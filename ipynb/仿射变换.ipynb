{
 "cells": [
  {
   "cell_type": "code",
   "execution_count": 1,
   "metadata": {},
   "outputs": [],
   "source": [
    "import cv2\n",
    "import numpy as np\n",
    "# laneall = cv2.imread(\"division_end/20180709/153115166085.jpg\")\n",
    "# lane1 = cv2.resize(laneall, (laneall.shape[1],laneall.shape[1]))\n",
    "laneall = cv2.imread(\"111222333.jpg\")\n",
    "lane1 = cv2.resize(laneall, (laneall.shape[1],laneall.shape[1]))\n",
    "# 高斯模糊，Canny边缘检测需要的\n",
    "lane = cv2.GaussianBlur(lane1, (5, 5), 0)\n"
   ]
  },
  {
   "cell_type": "code",
   "execution_count": null,
   "metadata": {},
   "outputs": [],
   "source": []
  },
  {
   "cell_type": "code",
   "execution_count": 2,
   "metadata": {},
   "outputs": [],
   "source": [
    "def unevenLightCompensate(img, blockSize):# 光照均衡化，过度地带颜色偏深\n",
    "    gray = cv2.cvtColor(img, cv2.COLOR_BGR2GRAY)\n",
    "    average = np.mean(gray)\n",
    "\n",
    "    rows_new = int(np.ceil(gray.shape[0] / blockSize))\n",
    "    cols_new = int(np.ceil(gray.shape[1] / blockSize))\n",
    "\n",
    "    blockImage = np.zeros((rows_new, cols_new), dtype=np.float32)\n",
    "    for r in range(rows_new):\n",
    "        for c in range(cols_new):\n",
    "            rowmin = r * blockSize\n",
    "            rowmax = (r + 1) * blockSize\n",
    "            if (rowmax > gray.shape[0]):\n",
    "                rowmax = gray.shape[0]\n",
    "            colmin = c * blockSize\n",
    "            colmax = (c + 1) * blockSize\n",
    "            if (colmax > gray.shape[1]):\n",
    "                colmax = gray.shape[1]\n",
    "\n",
    "            imageROI = gray[rowmin:rowmax, colmin:colmax]\n",
    "            temaver = np.mean(imageROI)\n",
    "            blockImage[r, c] = temaver\n",
    "\n",
    "    blockImage = blockImage - average\n",
    "    blockImage2 = cv2.resize(blockImage, (gray.shape[1], gray.shape[0]), interpolation=cv2.INTER_CUBIC)\n",
    "    gray2 = gray.astype(np.float32)\n",
    "    dst = gray2 - blockImage2\n",
    "    dst = dst.astype(np.uint8)\n",
    "    dst = cv2.GaussianBlur(dst, (3, 3), 0)\n",
    "\n",
    "    return dst\n"
   ]
  },
  {
   "cell_type": "code",
   "execution_count": 3,
   "metadata": {},
   "outputs": [],
   "source": [
    "# blockSize = 16\n",
    "# lane1 = unevenLightCompensate(lane, blockSize)\n",
    "# cv2.imshow(\"123\", lane1)\n",
    "# cv2.waitKey()"
   ]
  },
  {
   "cell_type": "code",
   "execution_count": 4,
   "metadata": {},
   "outputs": [],
   "source": [
    "# lane1 = cv2.flip(lane1, 1, dst=None)\n",
    "# cv2.imshow(\"123\", lane1)\n",
    "# cv2.waitKey()"
   ]
  },
  {
   "cell_type": "code",
   "execution_count": 5,
   "metadata": {},
   "outputs": [
    {
     "name": "stdout",
     "output_type": "stream",
     "text": [
      "(201, 201)\n"
     ]
    },
    {
     "data": {
      "text/plain": [
       "-1"
      ]
     },
     "execution_count": 5,
     "metadata": {},
     "output_type": "execute_result"
    }
   ],
   "source": [
    "\n",
    "# kernel = cv2.getStructuringElement(cv2.MORPH_RECT, (3, 3))  # 定义结构元素\n",
    "# kerne2 = cv2.getStructuringElement(cv2.MORPH_RECT, (7, 7))\n",
    "# opening = cv2.morphologyEx(lane, cv2.MORPH_OPEN, kernel)  # 开运算\n",
    "# lane = cv2.morphologyEx(opening, cv2.MORPH_CLOSE, kerne2)\n",
    "\n",
    "# 进行边缘检测，减少图像空间中需要检测的点数量\n",
    "lane = cv2.Canny(lane1, 30, 100)\n",
    "print(lane.shape)\n",
    "cv2.imshow(\"lane\", lane)\n",
    "cv2.waitKey(0)"
   ]
  },
  {
   "cell_type": "code",
   "execution_count": 6,
   "metadata": {},
   "outputs": [
    {
     "name": "stdout",
     "output_type": "stream",
     "text": [
      "[26, 0] [199, 5] [20, 183] [196, 198]\n"
     ]
    }
   ],
   "source": [
    "\n",
    "# lines = cv2.HoughLines(edges, 4, np.pi/180,200)\n",
    "# lines = np.reshape(lines,(lines.shape[0],-1))\n",
    "rho = 1  # 距离分辨率\n",
    "theta = np.pi / 180  # 角度分辨率\n",
    "threshold = 10  # 霍夫空间中多少个曲线相交才算作正式交点\n",
    "min_line_len = 10  # 最少多少个像素点才构成一条直线\n",
    "max_line_gap = 50  # 线段之间的最大间隔像素\n",
    "lines = cv2.HoughLinesP(lane, rho, theta, threshold, maxLineGap=max_line_gap)\n",
    "line_img = np.zeros_like(lane)\n",
    "\n",
    "point_x = []\n",
    "point_y = []\n",
    "point_distence = []\n",
    "for line in lines:\n",
    "    for x1, y1, x2, y2 in line:\n",
    "        point_x.append(x1)\n",
    "        point_x.append(x2)\n",
    "        point_y.append(y1)\n",
    "        point_y.append(y2)\n",
    "        point_distence.append(x1*x1+(y1+10)**2)\n",
    "        point_distence.append(x2*x2+(y2+10)**2)\n",
    "#         cv2.line(line_img, (x1, y1), (x2, y2), 255, 1)\n",
    "max_index = point_distence.index(max(point_distence))\n",
    "min_index = point_distence.index(min(point_distence))\n",
    "cv2.line(line_img, (point_x[max_index], point_y[max_index]), (point_x[min_index], point_y[min_index]), 255, 1)\n",
    "cv2.imshow(\"line_img\", line_img)\n",
    "cv2.waitKey()\n",
    "\n",
    "x1y1 = [point_x[min_index], point_y[min_index]]\n",
    "x4y4 = [point_x[max_index], point_y[max_index]]\n",
    "\n",
    "for i in range(len(point_distence)):\n",
    "    point_y[i] = lane.shape[0] - point_y[i]\n",
    "    point_distence[i] = point_x[i]*point_x[i]+point_y[i]*point_y[i]\n",
    "max_index = point_distence.index(max(point_distence))\n",
    "min_index = point_distence.index(min(point_distence))\n",
    "cv2.line(line_img, (point_x[max_index], lane.shape[0] - point_y[max_index]), (point_x[min_index], lane.shape[0] - point_y[min_index]), 255, 1)\n",
    "cv2.imshow(\"line_img\", line_img)\n",
    "cv2.waitKey()\n",
    "\n",
    "x3y3 = [point_x[min_index], lane.shape[0] - point_y[min_index]]\n",
    "x2y2 = [point_x[max_index], lane.shape[0] - point_y[max_index]]\n",
    "\n",
    "\n",
    "print(x1y1, x2y2, x3y3, x4y4)\n"
   ]
  },
  {
   "cell_type": "code",
   "execution_count": 7,
   "metadata": {},
   "outputs": [
    {
     "data": {
      "text/plain": [
       "-1"
      ]
     },
     "execution_count": 7,
     "metadata": {},
     "output_type": "execute_result"
    }
   ],
   "source": [
    "pts1 = np.float32([x1y1,x2y2,x3y3,x4y4])\n",
    "pts2 = np.float32([[0, 0], [lane.shape[1], 0], [0, lane.shape[0]*0.7], [lane.shape[1], lane.shape[0]*0.7]])\n",
    "M = cv2.getPerspectiveTransform(pts1, pts2)\n",
    "dst = cv2.warpPerspective(lane1, M, (lane.shape[1], lane.shape[0]))\n",
    "endd = dst[0:int(lane.shape[0]*0.65), :]\n",
    "cv2.imshow(\"end\", endd)\n",
    "cv2.waitKey()"
   ]
  },
  {
   "cell_type": "code",
   "execution_count": 8,
   "metadata": {},
   "outputs": [
    {
     "data": {
      "text/plain": [
       "True"
      ]
     },
     "execution_count": 8,
     "metadata": {},
     "output_type": "execute_result"
    }
   ],
   "source": [
    "cv2.imwrite(\"end.jpg\", endd)"
   ]
  },
  {
   "cell_type": "code",
   "execution_count": 9,
   "metadata": {},
   "outputs": [],
   "source": [
    "# pts1 = np.float32([x1y1,x2y2,x3y3,x4y4])\n",
    "# pts2 = np.float32([[0, 0], [lane.shape[1], 0], [0, lane.shape[0]], [lane.shape[1], lane.shape[0]]])\n",
    "# M = cv2.getPerspectiveTransform(pts1, pts2)\n",
    "# dst = cv2.warpPerspective(lane1, M, (lane.shape[1], lane.shape[0]))\n",
    "# dst = cv2.resize(dst,(laneall.shape[1], laneall.shape[0]))\n",
    "# cv2.imshow(\"end\", dst)\n",
    "# cv2.waitKey()"
   ]
  },
  {
   "cell_type": "code",
   "execution_count": null,
   "metadata": {},
   "outputs": [],
   "source": []
  },
  {
   "cell_type": "code",
   "execution_count": null,
   "metadata": {},
   "outputs": [],
   "source": [
    "\n",
    "\n",
    "\n",
    "\n",
    "\n",
    "\n",
    "\n",
    "\n"
   ]
  },
  {
   "cell_type": "code",
   "execution_count": null,
   "metadata": {},
   "outputs": [],
   "source": []
  },
  {
   "cell_type": "code",
   "execution_count": null,
   "metadata": {},
   "outputs": [],
   "source": []
  },
  {
   "cell_type": "code",
   "execution_count": null,
   "metadata": {},
   "outputs": [],
   "source": []
  }
 ],
 "metadata": {
  "kernelspec": {
   "display_name": "Python 3 (ipykernel)",
   "language": "python",
   "name": "python3"
  },
  "language_info": {
   "codemirror_mode": {
    "name": "ipython",
    "version": 3
   },
   "file_extension": ".py",
   "mimetype": "text/x-python",
   "name": "python",
   "nbconvert_exporter": "python",
   "pygments_lexer": "ipython3",
   "version": "3.9.7"
  }
 },
 "nbformat": 4,
 "nbformat_minor": 2
}
